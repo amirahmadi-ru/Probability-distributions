{
 "cells": [
  {
   "cell_type": "markdown",
   "id": "7b1348eb",
   "metadata": {},
   "source": [
    "# Distributions in python"
   ]
  },
  {
   "cell_type": "code",
   "execution_count": 1,
   "id": "00342b23",
   "metadata": {},
   "outputs": [],
   "source": [
    "import seaborn as sns\n",
    "from scipy import stats"
   ]
  },
  {
   "cell_type": "markdown",
   "id": "2ebe4920",
   "metadata": {},
   "source": [
    "### - Normal distribution"
   ]
  },
  {
   "cell_type": "code",
   "execution_count": 2,
   "id": "0a29397b",
   "metadata": {},
   "outputs": [],
   "source": [
    "data_normal = stats.norm.rvs(size=10000, loc=0, scale=1)\n",
    "# The rvs is random variates of given size.\n",
    "# The location (loc) keyword specifies the mean\n",
    "# The scale (scale) keyword specifies the std."
   ]
  },
  {
   "cell_type": "code",
   "execution_count": 4,
   "id": "4f76f833",
   "metadata": {},
   "outputs": [
    {
     "name": "stderr",
     "output_type": "stream",
     "text": [
      "/home/emmy/anaconda3/lib/python3.9/site-packages/seaborn/distributions.py:2619: FutureWarning: `distplot` is a deprecated function and will be removed in a future version. Please adapt your code to use either `displot` (a figure-level function with similar flexibility) or `histplot` (an axes-level function for histograms).\n",
      "  warnings.warn(msg, FutureWarning)\n"
     ]
    },
    {
     "data": {
      "text/plain": [
       "<AxesSubplot:>"
      ]
     },
     "execution_count": 4,
     "metadata": {},
     "output_type": "execute_result"
    },
    {
     "data": {
      "image/png": "[encoded data removed]",
      "text/plain": [
       "<Figure size 432x288 with 1 Axes>"
      ]
     },
     "metadata": {
      "needs_background": "light"
     },
     "output_type": "display_data"
    }
   ],
   "source": [
    "sns.distplot(data_normal, bins=100, kde=False)\n",
    "# The bins parameter enables you to control the bins of the histogram."
   ]
  },
  {
   "cell_type": "markdown",
   "id": "c8a6516f",
   "metadata": {},
   "source": [
    "### - Uniform distribution"
   ]
  },
  {
   "cell_type": "code",
   "execution_count": 5,
   "id": "8a5fb688",
   "metadata": {},
   "outputs": [],
   "source": [
    "data_uniform = stats.uniform.rvs(size=10000, loc=0, scale=10)\n",
    "# The rvs is random variates of given size.\n",
    "# The location (loc) keyword specifies the mean\n",
    "# The scale (scale) keyword specifies the std."
   ]
  },
  {
   "cell_type": "code",
   "execution_count": 6,
   "id": "3b4e10ee",
   "metadata": {},
   "outputs": [
    {
     "data": {
      "text/plain": [
       "<AxesSubplot:>"
      ]
     },
     "execution_count": 6,
     "metadata": {},
     "output_type": "execute_result"
    },
    {
     "data": {
      "image/png": "[encoded data removed]",
      "text/plain": [
       "<Figure size 432x288 with 1 Axes>"
      ]
     },
     "metadata": {
      "needs_background": "light"
     },
     "output_type": "display_data"
    }
   ],
   "source": [
    "sns.distplot(data_uniform, bins=100, kde=False)\n",
    "# The bins parameter enables you to control the bins of the histogram."
   ]
  },
  {
   "cell_type": "markdown",
   "id": "0a3fee2e",
   "metadata": {},
   "source": [
    "### - Bernoulli distribution"
   ]
  },
  {
   "cell_type": "code",
   "execution_count": 19,
   "id": "53642ebd",
   "metadata": {},
   "outputs": [],
   "source": [
    "data_bernoulli = stats.bernoulli.rvs(size=10000 ,p=0.2)\n",
    "# The rvs is random variates of given size.\n",
    "# The p is the probability of a single success."
   ]
  },
  {
   "cell_type": "code",
   "execution_count": 20,
   "id": "ac3cbaee",
   "metadata": {},
   "outputs": [
    {
     "name": "stdout",
     "output_type": "stream",
     "text": [
      "[0 0 0 ... 0 0 0]\n"
     ]
    }
   ],
   "source": [
    "print(data_bernoulli)"
   ]
  },
  {
   "cell_type": "code",
   "execution_count": 21,
   "id": "e02539a5",
   "metadata": {},
   "outputs": [
    {
     "data": {
      "text/plain": [
       "<AxesSubplot:>"
      ]
     },
     "execution_count": 21,
     "metadata": {},
     "output_type": "execute_result"
    },
    {
     "data": {
      "image/png": "[encoded data removed]",
      "text/plain": [
       "<Figure size 432x288 with 1 Axes>"
      ]
     },
     "metadata": {
      "needs_background": "light"
     },
     "output_type": "display_data"
    }
   ],
   "source": [
    "sns.distplot(data_bernoulli, bins=20, kde=False)\n",
    "# The bins parameter enables you to control the bins of the histogram."
   ]
  },
  {
   "cell_type": "markdown",
   "id": "f237b2b6",
   "metadata": {},
   "source": [
    "### - Binomial distribution"
   ]
  },
  {
   "cell_type": "code",
   "execution_count": 90,
   "id": "9428d767",
   "metadata": {},
   "outputs": [],
   "source": [
    "data_binomial = stats.binom.rvs(size=10000 ,n=100, p=0.2)\n",
    "# The n is Number of occurrences.\n",
    "# The p is the probability of a single success."
   ]
  },
  {
   "cell_type": "code",
   "execution_count": 91,
   "id": "7e7c34f5",
   "metadata": {},
   "outputs": [
    {
     "name": "stdout",
     "output_type": "stream",
     "text": [
      "[27 18 14 ... 25 17 22]\n"
     ]
    }
   ],
   "source": [
    "print(data_binomial)"
   ]
  },
  {
   "cell_type": "code",
   "execution_count": 93,
   "id": "13b48e65",
   "metadata": {},
   "outputs": [
    {
     "data": {
      "text/plain": [
       "<AxesSubplot:>"
      ]
     },
     "execution_count": 93,
     "metadata": {},
     "output_type": "execute_result"
    },
    {
     "data": {
      "image/png": "[encoded data removed]",
      "text/plain": [
       "<Figure size 432x288 with 1 Axes>"
      ]
     },
     "metadata": {
      "needs_background": "light"
     },
     "output_type": "display_data"
    }
   ],
   "source": [
    "sns.distplot(data_binomial, bins=50, kde=False)"
   ]
  },
  {
   "cell_type": "code",
   "execution_count": null,
   "id": "bd371751",
   "metadata": {},
   "outputs": [],
   "source": []
  }
 ],
 "metadata": {
  "kernelspec": {
   "display_name": "Python 3 (ipykernel)",
   "language": "python",
   "name": "python3"
  },
  "language_info": {
   "codemirror_mode": {
    "name": "ipython",
    "version": 3
   },
   "file_extension": ".py",
   "mimetype": "text/x-python",
   "name": "python",
   "nbconvert_exporter": "python",
   "pygments_lexer": "ipython3",
   "version": "3.9.7"
  }
 },
 "nbformat": 4,
 "nbformat_minor": 5
}
