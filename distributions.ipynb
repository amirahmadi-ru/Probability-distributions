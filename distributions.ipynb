{
 "cells": [
  {
   "cell_type": "markdown",
   "id": "7b1348eb",
   "metadata": {},
   "source": [
    "# Distributions in Python (Scipy, Numpy, Seaborn)"
   ]
  },
  {
   "cell_type": "code",
   "execution_count": 1,
   "id": "00342b23",
   "metadata": {},
   "outputs": [],
   "source": [
    "import seaborn as sns\n",
    "import numpy  as np\n",
    "from scipy import stats"
   ]
  },
  {
   "cell_type": "markdown",
   "id": "2ebe4920",
   "metadata": {},
   "source": [
    "### - Normal distribution"
   ]
  },
  {
   "cell_type": "code",
   "execution_count": 2,
   "id": "0a29397b",
   "metadata": {},
   "outputs": [],
   "source": [
    "data_normal = stats.norm.rvs(size=10000, loc=0, scale=1)\n",
    "# The rvs is random variates of given size.\n",
    "# The location (loc) keyword specifies the mean\n",
    "# The scale (scale) keyword specifies the std."
   ]
  },
  {
   "cell_type": "code",
   "execution_count": 3,
   "id": "4f76f833",
   "metadata": {},
   "outputs": [
    {
     "name": "stderr",
     "output_type": "stream",
     "text": [
      "/home/emmy/anaconda3/lib/python3.9/site-packages/seaborn/distributions.py:2619: FutureWarning: `distplot` is a deprecated function and will be removed in a future version. Please adapt your code to use either `displot` (a figure-level function with similar flexibility) or `histplot` (an axes-level function for histograms).\n",
      "  warnings.warn(msg, FutureWarning)\n"
     ]
    },
    {
     "data": {
      "text/plain": [
       "<AxesSubplot:>"
      ]
     },
     "execution_count": 3,
     "metadata": {},
     "output_type": "execute_result"
    },
    {
     "data": {
      "image/png": "[encoded data removed]",
      "text/plain": [
       "<Figure size 432x288 with 1 Axes>"
      ]
     },
     "metadata": {
      "needs_background": "light"
     },
     "output_type": "display_data"
    }
   ],
   "source": [
    "sns.distplot(data_normal, bins=100, kde=False)\n",
    "# The bins parameter enables you to control the bins of the histogram."
   ]
  },
  {
   "cell_type": "markdown",
   "id": "c8a6516f",
   "metadata": {},
   "source": [
    "### - Uniform distribution"
   ]
  },
  {
   "cell_type": "code",
   "execution_count": 4,
   "id": "8a5fb688",
   "metadata": {},
   "outputs": [],
   "source": [
    "data_uniform = stats.uniform.rvs(size=10000, loc=0, scale=10)\n",
    "# The rvs is random variates of given size.\n",
    "# The location (loc) keyword specifies the mean\n",
    "# The scale (scale) keyword specifies the std."
   ]
  },
  {
   "cell_type": "code",
   "execution_count": 5,
   "id": "3b4e10ee",
   "metadata": {},
   "outputs": [
    {
     "data": {
      "text/plain": [
       "<AxesSubplot:>"
      ]
     },
     "execution_count": 5,
     "metadata": {},
     "output_type": "execute_result"
    },
    {
     "data": {
      "image/png": "[encoded data removed]",
      "text/plain": [
       "<Figure size 432x288 with 1 Axes>"
      ]
     },
     "metadata": {
      "needs_background": "light"
     },
     "output_type": "display_data"
    }
   ],
   "source": [
    "sns.distplot(data_uniform, bins=100, kde=False)\n",
    "# The bins parameter enables you to control the bins of the histogram."
   ]
  },
  {
   "cell_type": "markdown",
   "id": "0a3fee2e",
   "metadata": {},
   "source": [
    "### - Bernoulli distribution"
   ]
  },
  {
   "cell_type": "code",
   "execution_count": 6,
   "id": "53642ebd",
   "metadata": {},
   "outputs": [],
   "source": [
    "data_bernoulli = stats.bernoulli.rvs(size=10000 ,p=0.2)\n",
    "# The rvs is random variates of given size.\n",
    "# The p is the probability of a single success."
   ]
  },
  {
   "cell_type": "code",
   "execution_count": 7,
   "id": "ac3cbaee",
   "metadata": {},
   "outputs": [
    {
     "name": "stdout",
     "output_type": "stream",
     "text": [
      "[0 0 0 ... 0 0 0]\n"
     ]
    }
   ],
   "source": [
    "print(data_bernoulli)"
   ]
  },
  {
   "cell_type": "code",
   "execution_count": 8,
   "id": "e02539a5",
   "metadata": {},
   "outputs": [
    {
     "data": {
      "text/plain": [
       "<AxesSubplot:>"
      ]
     },
     "execution_count": 8,
     "metadata": {},
     "output_type": "execute_result"
    },
    {
     "data": {
      "image/png": "[encoded data removed]",
      "text/plain": [
       "<Figure size 432x288 with 1 Axes>"
      ]
     },
     "metadata": {
      "needs_background": "light"
     },
     "output_type": "display_data"
    }
   ],
   "source": [
    "sns.distplot(data_bernoulli, bins=20, kde=False)\n",
    "# The bins parameter enables you to control the bins of the histogram."
   ]
  },
  {
   "cell_type": "markdown",
   "id": "f237b2b6",
   "metadata": {},
   "source": [
    "### - Binomial distribution"
   ]
  },
  {
   "cell_type": "code",
   "execution_count": 9,
   "id": "9428d767",
   "metadata": {},
   "outputs": [],
   "source": [
    "data_binomial = stats.binom.rvs(size=10000 ,n=100, p=0.2)\n",
    "# The n is Number of occurrences.\n",
    "# The p is the probability of a single success."
   ]
  },
  {
   "cell_type": "code",
   "execution_count": 10,
   "id": "7e7c34f5",
   "metadata": {},
   "outputs": [
    {
     "name": "stdout",
     "output_type": "stream",
     "text": [
      "[16 19 26 ... 20 15 21]\n"
     ]
    }
   ],
   "source": [
    "print(data_binomial)"
   ]
  },
  {
   "cell_type": "code",
   "execution_count": 11,
   "id": "13b48e65",
   "metadata": {},
   "outputs": [
    {
     "data": {
      "text/plain": [
       "<AxesSubplot:>"
      ]
     },
     "execution_count": 11,
     "metadata": {},
     "output_type": "execute_result"
    },
    {
     "data": {
      "image/png": "[encoded data removed]",
      "text/plain": [
       "<Figure size 432x288 with 1 Axes>"
      ]
     },
     "metadata": {
      "needs_background": "light"
     },
     "output_type": "display_data"
    }
   ],
   "source": [
    "sns.distplot(data_binomial, bins=50, kde=False)"
   ]
  },
  {
   "cell_type": "markdown",
   "id": "b3f56716",
   "metadata": {},
   "source": [
    "### - Multinomial distribution"
   ]
  },
  {
   "cell_type": "code",
   "execution_count": 12,
   "id": "79da2f10",
   "metadata": {},
   "outputs": [],
   "source": [
    "p = 1/6\n",
    "data_multinomial = np.random.multinomial(n=6, pvals=[p, p, p, p, p, p], size=100)\n",
    "# The n is number of experiments.\n",
    "# The pvals is probabilities of each of the p different outcomes."
   ]
  },
  {
   "cell_type": "code",
   "execution_count": 13,
   "id": "d5f41ba2",
   "metadata": {},
   "outputs": [
    {
     "name": "stdout",
     "output_type": "stream",
     "text": [
      "[[1 0 1 2 1 1]\n",
      " [2 0 0 1 3 0]\n",
      " [0 1 3 0 1 1]\n",
      " [1 1 1 1 1 1]\n",
      " [1 0 0 0 1 4]\n",
      " [1 0 2 2 1 0]\n",
      " [0 1 2 1 1 1]\n",
      " [0 2 1 1 1 1]\n",
      " [2 0 3 0 1 0]\n",
      " [2 1 2 0 1 0]\n",
      " [1 0 1 2 2 0]\n",
      " [2 1 1 1 1 0]\n",
      " [0 3 0 1 2 0]\n",
      " [2 2 0 0 1 1]\n",
      " [0 0 2 2 1 1]\n",
      " [0 4 1 1 0 0]\n",
      " [1 0 2 2 0 1]\n",
      " [0 1 1 0 1 3]\n",
      " [1 0 0 0 1 4]\n",
      " [1 1 2 0 2 0]\n",
      " [1 1 1 1 0 2]\n",
      " [1 0 0 0 2 3]\n",
      " [1 0 1 0 1 3]\n",
      " [1 1 1 0 1 2]\n",
      " [2 0 0 1 2 1]\n",
      " [2 0 1 1 2 0]\n",
      " [0 1 0 2 1 2]\n",
      " [1 2 1 0 1 1]\n",
      " [0 0 3 1 0 2]\n",
      " [1 1 0 1 1 2]\n",
      " [1 0 0 1 2 2]\n",
      " [1 0 0 1 1 3]\n",
      " [1 1 1 2 1 0]\n",
      " [3 2 0 0 1 0]\n",
      " [0 0 3 0 2 1]\n",
      " [0 3 2 1 0 0]\n",
      " [0 0 2 1 0 3]\n",
      " [2 0 1 0 1 2]\n",
      " [1 0 0 2 1 2]\n",
      " [1 0 0 3 0 2]\n",
      " [1 0 0 1 3 1]\n",
      " [1 1 1 0 0 3]\n",
      " [0 1 1 1 2 1]\n",
      " [3 0 0 0 1 2]\n",
      " [2 1 1 1 1 0]\n",
      " [0 1 1 1 1 2]\n",
      " [1 1 0 1 1 2]\n",
      " [1 2 2 0 1 0]\n",
      " [3 1 1 1 0 0]\n",
      " [0 1 1 0 3 1]\n",
      " [2 1 0 1 0 2]\n",
      " [0 1 0 2 1 2]\n",
      " [4 1 0 0 0 1]\n",
      " [2 2 0 1 1 0]\n",
      " [1 0 2 1 2 0]\n",
      " [2 1 0 1 1 1]\n",
      " [2 0 1 2 0 1]\n",
      " [1 1 0 0 1 3]\n",
      " [1 2 0 1 0 2]\n",
      " [1 1 0 1 1 2]\n",
      " [1 0 3 1 1 0]\n",
      " [1 1 1 1 1 1]\n",
      " [1 0 4 0 1 0]\n",
      " [1 1 2 1 1 0]\n",
      " [4 0 0 0 0 2]\n",
      " [1 1 0 1 1 2]\n",
      " [1 1 1 1 1 1]\n",
      " [1 0 1 0 2 2]\n",
      " [2 2 1 1 0 0]\n",
      " [2 1 0 0 1 2]\n",
      " [0 1 2 1 2 0]\n",
      " [1 1 1 1 1 1]\n",
      " [1 2 2 1 0 0]\n",
      " [0 2 2 0 1 1]\n",
      " [1 0 2 0 2 1]\n",
      " [1 0 1 0 4 0]\n",
      " [0 0 3 1 1 1]\n",
      " [1 2 1 1 1 0]\n",
      " [0 1 1 0 0 4]\n",
      " [1 1 1 2 1 0]\n",
      " [1 4 0 0 0 1]\n",
      " [0 0 2 3 0 1]\n",
      " [1 2 1 0 1 1]\n",
      " [0 0 2 2 0 2]\n",
      " [1 2 0 0 2 1]\n",
      " [2 1 0 1 2 0]\n",
      " [1 1 1 0 2 1]\n",
      " [2 1 1 0 1 1]\n",
      " [2 0 1 1 0 2]\n",
      " [1 1 1 1 1 1]\n",
      " [0 2 0 3 1 0]\n",
      " [0 2 2 2 0 0]\n",
      " [1 2 1 0 2 0]\n",
      " [1 1 2 1 1 0]\n",
      " [0 2 0 2 0 2]\n",
      " [0 0 0 0 1 5]\n",
      " [2 0 1 0 0 3]\n",
      " [2 0 1 2 0 1]\n",
      " [2 1 2 0 1 0]\n",
      " [1 1 2 2 0 0]]\n"
     ]
    }
   ],
   "source": [
    "print(data_multinomial)"
   ]
  },
  {
   "cell_type": "code",
   "execution_count": 14,
   "id": "29935bca",
   "metadata": {},
   "outputs": [
    {
     "data": {
      "text/plain": [
       "<AxesSubplot:ylabel='Density'>"
      ]
     },
     "execution_count": 14,
     "metadata": {},
     "output_type": "execute_result"
    },
    {
     "data": {
      "image/png": "[encoded data removed]",
      "text/plain": [
       "<Figure size 432x288 with 1 Axes>"
      ]
     },
     "metadata": {
      "needs_background": "light"
     },
     "output_type": "display_data"
    }
   ],
   "source": [
    "sns.distplot(data_multinomial)"
   ]
  },
  {
   "cell_type": "markdown",
   "id": "d583babd",
   "metadata": {},
   "source": [
    "### - Poisson distribution"
   ]
  },
  {
   "cell_type": "code",
   "execution_count": 15,
   "id": "61dbd6ec",
   "metadata": {},
   "outputs": [],
   "source": [
    "data_poisson = np.random.poisson(lam=7, size=100)\n",
    "# The lam is expected number of events occurring in a fixed-time interval."
   ]
  },
  {
   "cell_type": "code",
   "execution_count": 16,
   "id": "f1f356fd",
   "metadata": {},
   "outputs": [
    {
     "name": "stdout",
     "output_type": "stream",
     "text": [
      "[ 6  8 10  2 13  9  7  9  5  3  6  7  9  8  5  2 14  7 11 10 11 10  5 11\n",
      " 15 14  9  8  7  5  4  4  4  8  5  6  6  6  6  5  9  4  7  6  3  6  7  7\n",
      "  8  6  7  8  3  4 10  6  7  6  9  4 13  5  8  6  9  5  6  5  8  8  9 10\n",
      "  6  7  9  9  7  7  9  4  8 11  6  5  7  4  7 10  7  3  9  6  4  8 10  5\n",
      "  6  3  7  6]\n"
     ]
    }
   ],
   "source": [
    "print(data_poisson)"
   ]
  },
  {
   "cell_type": "code",
   "execution_count": 17,
   "id": "fea5637b",
   "metadata": {},
   "outputs": [
    {
     "name": "stderr",
     "output_type": "stream",
     "text": [
      "/home/emmy/anaconda3/lib/python3.9/site-packages/seaborn/distributions.py:2619: FutureWarning: `distplot` is a deprecated function and will be removed in a future version. Please adapt your code to use either `displot` (a figure-level function with similar flexibility) or `histplot` (an axes-level function for histograms).\n",
      "  warnings.warn(msg, FutureWarning)\n"
     ]
    },
    {
     "data": {
      "text/plain": [
       "<AxesSubplot:ylabel='Density'>"
      ]
     },
     "execution_count": 17,
     "metadata": {},
     "output_type": "execute_result"
    },
    {
     "data": {
      "image/png": "[encoded data removed]",
      "text/plain": [
       "<Figure size 432x288 with 1 Axes>"
      ]
     },
     "metadata": {
      "needs_background": "light"
     },
     "output_type": "display_data"
    }
   ],
   "source": [
    "sns.distplot(data_poisson)"
   ]
  },
  {
   "cell_type": "code",
   "execution_count": null,
   "id": "a0df3f9e",
   "metadata": {},
   "outputs": [],
   "source": []
  }
 ],
 "metadata": {
  "kernelspec": {
   "display_name": "Python 3 (ipykernel)",
   "language": "python",
   "name": "python3"
  },
  "language_info": {
   "codemirror_mode": {
    "name": "ipython",
    "version": 3
   },
   "file_extension": ".py",
   "mimetype": "text/x-python",
   "name": "python",
   "nbconvert_exporter": "python",
   "pygments_lexer": "ipython3",
   "version": "3.9.7"
  }
 },
 "nbformat": 4,
 "nbformat_minor": 5
}
