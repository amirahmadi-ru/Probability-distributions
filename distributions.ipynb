{
 "cells": [
  {
   "cell_type": "markdown",
   "id": "7b1348eb",
   "metadata": {},
   "source": [
<<<<<<< HEAD
    "# Distributions in Python"
=======
    "# Distributions in Python (Scipy, Numpy, Seaborn)"
>>>>>>> 9d3a4c6 (update main file)
   ]
  },
  {
   "cell_type": "code",
   "execution_count": 1,
   "id": "00342b23",
   "metadata": {},
   "outputs": [],
   "source": [
    "import seaborn as sns\n",
    "import numpy as np\n",
    "from scipy import stats"
   ]
  },
  {
   "cell_type": "markdown",
   "id": "2ebe4920",
   "metadata": {},
   "source": [
    "### - Normal distribution"
   ]
  },
  {
   "cell_type": "code",
   "execution_count": 2,
   "id": "0a29397b",
   "metadata": {},
   "outputs": [],
   "source": [
    "data_normal = stats.norm.rvs(size=10000, loc=0, scale=1)\n",
    "# The rvs is random variates of given size.\n",
    "# The location (loc) keyword specifies the mean\n",
    "# The scale (scale) keyword specifies the std."
   ]
  },
  {
   "cell_type": "code",
   "execution_count": 3,
   "id": "4f76f833",
   "metadata": {},
   "outputs": [
    {
     "name": "stderr",
     "output_type": "stream",
     "text": [
      "/home/emmy/anaconda3/lib/python3.9/site-packages/seaborn/distributions.py:2619: FutureWarning: `distplot` is a deprecated function and will be removed in a future version. Please adapt your code to use either `displot` (a figure-level function with similar flexibility) or `histplot` (an axes-level function for histograms).\n",
      "  warnings.warn(msg, FutureWarning)\n"
     ]
    },
    {
     "data": {
      "text/plain": [
       "<AxesSubplot:>"
      ]
     },
     "execution_count": 3,
     "metadata": {},
     "output_type": "execute_result"
    },
    {
     "data": {
      "image/png": "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\n",
      "text/plain": [
       "<Figure size 432x288 with 1 Axes>"
      ]
     },
     "metadata": {
      "needs_background": "light"
     },
     "output_type": "display_data"
    }
   ],
   "source": [
    "sns.distplot(data_normal, bins=100, kde=False)\n",
    "# The bins parameter enables you to control the bins of the histogram."
   ]
  },
  {
   "cell_type": "markdown",
   "id": "c8a6516f",
   "metadata": {},
   "source": [
    "### - Uniform distribution"
   ]
  },
  {
   "cell_type": "code",
   "execution_count": 4,
   "id": "8a5fb688",
   "metadata": {},
   "outputs": [],
   "source": [
    "data_uniform = stats.uniform.rvs(size=10000, loc=0, scale=10)\n",
    "# The rvs is random variates of given size.\n",
    "# The location (loc) keyword specifies the mean\n",
    "# The scale (scale) keyword specifies the std."
   ]
  },
  {
   "cell_type": "code",
   "execution_count": 5,
   "id": "3b4e10ee",
   "metadata": {},
   "outputs": [
    {
     "data": {
      "text/plain": [
       "<AxesSubplot:>"
      ]
     },
     "execution_count": 5,
     "metadata": {},
     "output_type": "execute_result"
    },
    {
     "data": {
      "image/png": "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\n",
      "text/plain": [
       "<Figure size 432x288 with 1 Axes>"
      ]
     },
     "metadata": {
      "needs_background": "light"
     },
     "output_type": "display_data"
    }
   ],
   "source": [
    "sns.distplot(data_uniform, bins=100, kde=False)\n",
    "# The bins parameter enables you to control the bins of the histogram."
   ]
  },
  {
   "cell_type": "markdown",
   "id": "0a3fee2e",
   "metadata": {},
   "source": [
    "### - Bernoulli distribution"
   ]
  },
  {
   "cell_type": "code",
   "execution_count": 6,
   "id": "53642ebd",
   "metadata": {},
   "outputs": [],
   "source": [
    "data_bernoulli = stats.bernoulli.rvs(size=10000 ,p=0.2)\n",
    "# The rvs is random variates of given size.\n",
    "# The p is the probability of a single success."
   ]
  },
  {
   "cell_type": "code",
   "execution_count": 7,
   "id": "ac3cbaee",
   "metadata": {},
   "outputs": [
    {
     "name": "stdout",
     "output_type": "stream",
     "text": [
      "[0 0 0 ... 1 0 0]\n"
     ]
    }
   ],
   "source": [
    "print(data_bernoulli)"
   ]
  },
  {
   "cell_type": "code",
   "execution_count": 8,
   "id": "e02539a5",
   "metadata": {},
   "outputs": [
    {
     "data": {
      "text/plain": [
       "<AxesSubplot:>"
      ]
     },
     "execution_count": 8,
     "metadata": {},
     "output_type": "execute_result"
    },
    {
     "data": {
      "image/png": "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\n",
      "text/plain": [
       "<Figure size 432x288 with 1 Axes>"
      ]
     },
     "metadata": {
      "needs_background": "light"
     },
     "output_type": "display_data"
    }
   ],
   "source": [
    "sns.distplot(data_bernoulli, bins=20, kde=False)\n",
    "# The bins parameter enables you to control the bins of the histogram."
   ]
  },
  {
   "cell_type": "markdown",
   "id": "f237b2b6",
   "metadata": {},
   "source": [
    "### - Binomial distribution"
   ]
  },
  {
   "cell_type": "code",
   "execution_count": 9,
   "id": "9428d767",
   "metadata": {},
   "outputs": [],
   "source": [
    "data_binomial = stats.binom.rvs(size=10000 ,n=100, p=0.2)\n",
    "# The n is Number of occurrences.\n",
    "# The p is the probability of a single success."
   ]
  },
  {
   "cell_type": "code",
   "execution_count": 10,
   "id": "7e7c34f5",
   "metadata": {},
   "outputs": [
    {
     "name": "stdout",
     "output_type": "stream",
     "text": [
      "[20 21 21 ... 22 24 28]\n"
     ]
    }
   ],
   "source": [
    "print(data_binomial)"
   ]
  },
  {
   "cell_type": "code",
   "execution_count": 11,
   "id": "13b48e65",
   "metadata": {},
   "outputs": [
    {
     "data": {
      "text/plain": [
       "<AxesSubplot:>"
      ]
     },
     "execution_count": 11,
     "metadata": {},
     "output_type": "execute_result"
    },
    {
     "data": {
      "image/png": "iVBORw0KGgoAAAANSUhEUgAAAX0AAAD4CAYAAAAAczaOAAAAOXRFWHRTb2Z0d2FyZQBNYXRwbG90bGliIHZlcnNpb24zLjQuMywgaHR0cHM6Ly9tYXRwbG90bGliLm9yZy/MnkTPAAAACXBIWXMAAAsTAAALEwEAmpwYAAAP80lEQVR4nO3df6zdd13H8efLDgcMFzp7N2vbpcM06LYo4E2HzpDFoatA6DSOFAIWM1NjioA/Aiv/DE2aLAYJmDiSCmgRRm0AXUOiYykuSIIddz9068qyhi3dpbW9iAojZrDu7R/nu3hye+9t7zntvefcz/ORNOd7PufzPd/3Ptl93c/9fL/ne1JVSJLa8CPLXYAkaekY+pLUEENfkhpi6EtSQwx9SWrIRctdwNmsWbOmNm7cuNxlSNLYWLNmDffcc889VbVl9msjH/obN25kampqucuQpLGSZM1c7S7vSFJDDH1JaoihL0kNMfQlqSGGviQ1xNCXpIacNfSTfDLJqSSP9rVdluTeJE90j6v7XtuV5GiSx5Pc1Nf+80ke6V77iyQ5//85kqSFnMtM/2+A2Rf43wYcrKpNwMHuOUmuBrYB13T73JlkVbfPx4AdwKbu3xkfGpAkXVhnDf2q+grwnVnNW4G93fZe4Oa+9n1V9WxVPQkcBTYnWQtcWlVfq94N/D/Vt48kaYkM+oncK6rqBEBVnUhyede+DvjXvn7TXdsPu+3Z7XNKsoPeXwVceeWVA5Yoze2uQ8fmbH/bdf6/ppXvfJ/InWudvhZon1NV7amqyaqanJiYOG/FSVLrBp3pn0yytpvlrwVOde3TwIa+fuuB4137+jnapaE5c5fO3aAz/QPA9m57O3B3X/u2JBcnuYreCdv7u6Wg7yV5bXfVzm/17SNJWiJnnekn+SxwA7AmyTRwO3AHsD/JrcAx4BaAqjqcZD/wGPAcsLOqTndv9Xv0rgR6CfCP3T9J0hI6a+hX1VvneenGefrvBnbP0T4FXLuo6iRJ55WfyJWkhhj6ktQQQ1+SGmLoS1JDDH1JaoihL0kNMfQlqSGGviQ1xNCXpIYMesM1acXxxm1qgTN9SWqIoS9JDTH0JakhrulrbMy35i7p3DnTl6SGGPqS1BBDX5IaYuhLUkMMfUlqiKEvSQ0x9CWpIV6nLw3Ie/VoHDnTl6SGGPqS1BBDX5IaYuhLUkMMfUlqiKEvSQ0x9CWpIYa+JDXE0Jekhhj6ktSQoUI/yR8kOZzk0SSfTfLiJJcluTfJE93j6r7+u5IcTfJ4kpuGL1+StBgDh36SdcC7gcmquhZYBWwDbgMOVtUm4GD3nCRXd69fA2wB7kyyarjyJUmLMezyzkXAS5JcBLwUOA5sBfZ2r+8Fbu62twL7qurZqnoSOApsHvL4kqRFGDj0q+pbwIeAY8AJ4H+q6kvAFVV1outzAri822Ud8HTfW0x3bZKkJTLM8s5qerP3q4CfBC5J8vaFdpmjreZ57x1JppJMzczMDFqiJGmWYZZ3Xg88WVUzVfVD4AvALwInk6wF6B5Pdf2ngQ19+6+ntxx0hqraU1WTVTU5MTExRImSpH7DfInKMeC1SV4K/C9wIzAFfB/YDtzRPd7d9T8A3JXkw/T+MtgE3D/E8TXG/AISaXkMHPpVdSjJ54AHgeeAh4A9wMuA/UlupfeL4Zau/+Ek+4HHuv47q+r0kPVLkhZhqK9LrKrbgdtnNT9Lb9Y/V//dwO5hjilJGpyfyJWkhhj6ktQQQ1+SGmLoS1JDDH1JaoihL0kNGeqSTUln8oNnGmXO9CWpIYa+JDXE0Jekhhj6ktQQQ1+SGmLoS1JDDH1JaoihL0kNMfQlqSGGviQ1xNCXpIYY+pLUEENfkhpi6EtSQwx9SWqIoS9JDTH0Jakhhr4kNcTQl6SGGPqS1BBDX5IaYuhLUkMMfUlqiKEvSQ0x9CWpIYa+JDVkqNBP8vIkn0vyjSRHkvxCksuS3Jvkie5xdV//XUmOJnk8yU3Dly9JWoxhZ/ofBf6pqn4a+DngCHAbcLCqNgEHu+ckuRrYBlwDbAHuTLJqyONLkhbhokF3THIp8DrgnQBV9QPgB0m2Ajd03fYC9wHvB7YC+6rqWeDJJEeBzcDXBq1Bo++uQ8eWuwRJfYaZ6b8CmAH+OslDST6e5BLgiqo6AdA9Xt71Xwc83bf/dNd2hiQ7kkwlmZqZmRmiRElSv2FC/yLgNcDHqurVwPfplnLmkTnaaq6OVbWnqiaranJiYmKIEiVJ/YYJ/WlguqoOdc8/R++XwMkkawG6x1N9/Tf07b8eOD7E8SVJizRw6FfVfwBPJ3ll13Qj8BhwANjetW0H7u62DwDbklyc5CpgE3D/oMeXJC3ewCdyO78PfCbJjwLfBH6b3i+S/UluBY4BtwBU1eEk++n9YngO2FlVp4c8viRpEYYK/ap6GJic46Ub5+m/G9g9zDElSYPzE7mS1BBDX5IaYuhLUkMMfUlqiKEvSQ0Z9pJNSedovvsQve26K5e4ErXMmb4kNcTQl6SGGPqS1BBDX5IaYuhLUkMMfUlqiKEvSQ0x9CWpIYa+JDXE0Jekhhj6ktQQQ1+SGuIN17Qo3jRMGm/O9CWpIYa+JDXE5R1pRM23lAYup2lwzvQlqSGGviQ1xNCXpIYY+pLUEENfkhpi6EtSQwx9SWqIoS9JDTH0Jakhhr4kNWTo0E+yKslDSb7YPb8syb1JnugeV/f13ZXkaJLHk9w07LElSYtzPmb67wGO9D2/DThYVZuAg91zklwNbAOuAbYAdyZZdR6OL0k6R0OFfpL1wBuBj/c1bwX2dtt7gZv72vdV1bNV9SRwFNg8zPElSYsz7Ez/I8D7gOf72q6oqhMA3ePlXfs64Om+ftNd2xmS7EgylWRqZmZmyBIlSS8YOPSTvAk4VVUPnOsuc7TVXB2rak9VTVbV5MTExKAlSpJmGeZ++tcDb07yBuDFwKVJPg2cTLK2qk4kWQuc6vpPAxv69l8PHB/i+JKkRRp4pl9Vu6pqfVVtpHeC9stV9XbgALC967YduLvbPgBsS3JxkquATcD9A1cuSVq0C/HNWXcA+5PcChwDbgGoqsNJ9gOPAc8BO6vq9AU4viRpHucl9KvqPuC+bvs/gRvn6bcb2H0+jilJWjw/kStJDTH0Jakhhr4kNcTQl6SGGPqS1BBDX5IaYuhLUkMMfUlqiKEvSQ25ELdh0Apw16Fjy12CpAvAmb4kNcTQl6SGuLwjjaH5lt/edt2VS1yJxo0zfUlqiKEvSQ0x9CWpIYa+JDXE0Jekhhj6ktQQQ1+SGmLoS1JDDH1JaoihL0kNMfQlqSGGviQ1xNCXpIYY+pLUEENfkhpi6EtSQwx9SWqIoS9JDTH0JakhA39HbpINwKeAnwCeB/ZU1UeTXAb8HbAReAp4S1X9V7fPLuBW4DTw7qq6Z6jqJZ0Tv1NXLxhmpv8c8EdV9TPAa4GdSa4GbgMOVtUm4GD3nO61bcA1wBbgziSrhilekrQ4A4d+VZ2oqge77e8BR4B1wFZgb9dtL3Bzt70V2FdVz1bVk8BRYPOgx5ckLd55WdNPshF4NXAIuKKqTkDvFwNweddtHfB0327TXZskaYkMHfpJXgZ8HnhvVX13oa5ztNU877kjyVSSqZmZmWFLlCR1hgr9JC+iF/ifqaovdM0nk6ztXl8LnOrap4ENfbuvB47P9b5VtaeqJqtqcmJiYpgSJUl9Bg79JAE+ARypqg/3vXQA2N5tbwfu7mvfluTiJFcBm4D7Bz2+JGnxBr5kE7geeAfwSJKHu7YPAHcA+5PcChwDbgGoqsNJ9gOP0bvyZ2dVnR7i+JKkRRo49Kvqq8y9Tg9w4zz77AZ2D3pMDc7rtCWBn8iVpKYY+pLUEENfkhoyzIlcSWPOcz3tcaYvSQ0x9CWpIYa+JDXE0Jekhhj6ktQQQ1+SGuIlmyvMfJfgSRI405ekphj6ktQQQ1+SGmLoS1JDDH1JaoihL0kN8ZJNSefMu3KOP2f6ktQQQ1+SGmLoS1JDXNMfca6hSjqfnOlLUkMMfUlqiKEvSQ0x9CWpIZ7IlTQ0LzgYH870Jakhhr4kNcTlnRHh1xyqJS4HLR9n+pLUEENfkhri8o6kkeGyz4W35DP9JFuSPJ7kaJLblvr4ktSyJZ3pJ1kF/CXwK8A08PUkB6rqsaWs43xZ7MlXZyvS+bXQz6A/b3Nb6uWdzcDRqvomQJJ9wFZgLENf0srRytJSqmrpDpb8JrClqn6ne/4O4LqqetesfjuAHd3TVwKPD3jINcC3B9x3uYxbzeNWL1jzUhm3msetXpi/5m8DVNWW2S8s9Uw/c7Sd8VunqvYAe4Y+WDJVVZPDvs9SGreax61esOalMm41j1u9MFjNS30idxrY0Pd8PXB8iWuQpGYtdeh/HdiU5KokPwpsAw4scQ2S1KwlXd6pqueSvAu4B1gFfLKqDl/AQw69RLQMxq3mcasXrHmpjFvN41YvDFDzkp7IlSQtL2/DIEkNMfQlqSErNvSTPJXkkSQPJ5la7npmS/LJJKeSPNrXdlmSe5M80T2uXs4aZ5un5g8m+VY3zg8necNy1jhbkg1J/jnJkSSHk7ynax/JsV6g3pEd5yQvTnJ/kn/rav6Trn0kxxgWrHlkxxl6dzVI8lCSL3bPFz3GK3ZNP8lTwGRVjeSHLZK8DngG+FRVXdu1/Rnwnaq6o7sv0eqqev9y1tlvnpo/CDxTVR9aztrmk2QtsLaqHkzyY8ADwM3AOxnBsV6g3rcwouOcJMAlVfVMkhcBXwXeA/wGIzjGsGDNWxjRcQZI8ofAJHBpVb1pkMxYsTP9UVdVXwG+M6t5K7C3295L74d9ZMxT80irqhNV9WC3/T3gCLCOER3rBeodWdXzTPf0Rd2/YkTHGBaseWQlWQ+8Efh4X/Oix3glh34BX0ryQHdbh3FwRVWdgN4PP3D5Mtdzrt6V5N+75Z+R+RN+tiQbgVcDhxiDsZ5VL4zwOHfLDg8Dp4B7q2rkx3iemmF0x/kjwPuA5/vaFj3GKzn0r6+q1wC/BuzsliZ0/n0M+CngVcAJ4M+XtZp5JHkZ8HngvVX13eWu52zmqHekx7mqTlfVq+h9yn5zkmuXuaSzmqfmkRznJG8CTlXVA8O+14oN/ao63j2eAv6e3h0+R93Jbk33hbXdU8tcz1lV1cnuh+d54K8YwXHu1mw/D3ymqr7QNY/sWM9V7ziMM0BV/TdwH7218ZEd4379NY/wOF8PvLk7V7kP+OUkn2aAMV6RoZ/kku4kGEkuAX4VeHThvUbCAWB7t70duHsZazknL/wP1/l1RmycuxN2nwCOVNWH+14aybGer95RHuckE0le3m2/BHg98A1GdIxh/ppHdZyraldVra+qjfRuX/Plqno7A4zxirx6J8kr6M3uoXeribuqavcylnSGJJ8FbqB3a9STwO3APwD7gSuBY8AtVTUyJ07nqfkGen8KF/AU8LsvrDGOgiS/BPwL8Aj/vxb6AXrr5CM31gvU+1ZGdJyT/Cy9k4ir6E0k91fVnyb5cUZwjGHBmv+WER3nFyS5Afjj7uqdRY/xigx9SdLcVuTyjiRpboa+JDXE0Jekhhj6ktQQQ1+SGmLoS1JDDH1Jasj/ATrlCeXal2ITAAAAAElFTkSuQmCC\n",
      "text/plain": [
       "<Figure size 432x288 with 1 Axes>"
      ]
     },
     "metadata": {
      "needs_background": "light"
     },
     "output_type": "display_data"
    }
   ],
   "source": [
    "sns.distplot(data_binomial, bins=50, kde=False)"
   ]
  },
  {
   "cell_type": "markdown",
   "id": "eb89f19a",
   "metadata": {},
   "source": [
    " ### - Multinomial distribution"
   ]
  },
  {
   "cell_type": "code",
   "execution_count": 12,
   "id": "c797f21b",
   "metadata": {},
   "outputs": [],
   "source": [
    "p = 1/6\n",
    "data_multinomial = np.random.multinomial(n=6, pvals=[p, p, p, p, p, p], size=10)\n",
    "# The n is number of experiments.\n",
    "# The pvals is Probabilities of each of the p different outcomes."
   ]
  },
  {
   "cell_type": "code",
   "execution_count": 13,
   "id": "0bfa927b",
   "metadata": {},
   "outputs": [
    {
     "name": "stdout",
     "output_type": "stream",
     "text": [
      "[[0 1 1 1 1 2]\n",
      " [2 1 1 1 1 0]\n",
      " [0 1 1 0 1 3]\n",
      " [0 1 2 1 2 0]\n",
      " [3 1 1 0 1 0]\n",
      " [1 0 3 0 0 2]\n",
      " [3 0 0 0 1 2]\n",
      " [0 0 0 1 3 2]\n",
      " [3 0 0 0 1 2]\n",
      " [0 0 1 0 2 3]]\n"
     ]
    }
   ],
   "source": [
    "print(data_multinomial)"
   ]
  },
  {
   "cell_type": "code",
   "execution_count": 14,
   "id": "a5175ea6",
   "metadata": {},
   "outputs": [
    {
     "data": {
      "text/plain": [
       "<AxesSubplot:ylabel='Density'>"
      ]
     },
     "execution_count": 14,
     "metadata": {},
     "output_type": "execute_result"
    },
    {
     "data": {
      "image/png": "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\n",
      "text/plain": [
       "<Figure size 432x288 with 1 Axes>"
      ]
     },
     "metadata": {
      "needs_background": "light"
     },
     "output_type": "display_data"
    }
   ],
   "source": [
    "sns.distplot(data_multinomial)"
   ]
  },
  {
   "cell_type": "markdown",
   "id": "af82689f",
   "metadata": {},
   "source": [
    "### - Poisson distribution\n"
   ]
  },
  {
   "cell_type": "code",
   "execution_count": 15,
   "id": "a645366f",
   "metadata": {},
   "outputs": [],
   "source": [
    "data_poisson = np.random.poisson(lam=7, size=100)\n",
    "# The poisson is expected number of events occurring in a fixed-time interval."
   ]
  },
  {
   "cell_type": "code",
   "execution_count": 16,
   "id": "336700de",
   "metadata": {},
   "outputs": [
    {
     "name": "stdout",
     "output_type": "stream",
     "text": [
      "[ 8 10  4 10  7  7  9  7 11  5  5  7  3  6  7  2  5  7  9  5  6  4 13  5\n",
      "  4  9  3  9  5 10 13  6  6  6  7  5  7  7  2  4  4  8  4  5  1  5 11  5\n",
      "  6 10 13  6 10  5  6  6  7  5  8  3 11  5  4 10  2  7  5  8  5  5  7  8\n",
      "  2  8  6  5  6  4  9  7  6  8  6  3  5  8  6  9 10  6  3  5  4 13  6  8\n",
      "  8  9  5  8]\n"
     ]
    }
   ],
   "source": [
    "print(data_poisson)"
   ]
  },
  {
   "cell_type": "code",
   "execution_count": 17,
   "id": "8fde5601",
   "metadata": {},
   "outputs": [
    {
     "name": "stderr",
     "output_type": "stream",
     "text": [
      "/home/emmy/anaconda3/lib/python3.9/site-packages/seaborn/distributions.py:2619: FutureWarning: `distplot` is a deprecated function and will be removed in a future version. Please adapt your code to use either `displot` (a figure-level function with similar flexibility) or `histplot` (an axes-level function for histograms).\n",
      "  warnings.warn(msg, FutureWarning)\n"
     ]
    },
    {
     "data": {
      "text/plain": [
       "<AxesSubplot:>"
      ]
     },
     "execution_count": 17,
     "metadata": {},
     "output_type": "execute_result"
    },
    {
     "data": {
      "image/png": "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\n",
      "text/plain": [
       "<Figure size 432x288 with 1 Axes>"
      ]
     },
     "metadata": {
      "needs_background": "light"
     },
     "output_type": "display_data"
    }
   ],
   "source": [
    "sns.distplot(data_poisson, kde=False)"
   ]
  },
  {
   "cell_type": "code",
   "execution_count": null,
   "id": "ac12d981",
   "metadata": {},
   "outputs": [],
   "source": []
  }
 ],
 "metadata": {
  "kernelspec": {
   "display_name": "Python 3 (ipykernel)",
   "language": "python",
   "name": "python3"
  },
  "language_info": {
   "codemirror_mode": {
    "name": "ipython",
    "version": 3
   },
   "file_extension": ".py",
   "mimetype": "text/x-python",
   "name": "python",
   "nbconvert_exporter": "python",
   "pygments_lexer": "ipython3",
   "version": "3.9.7"
  }
 },
 "nbformat": 4,
 "nbformat_minor": 5
}
